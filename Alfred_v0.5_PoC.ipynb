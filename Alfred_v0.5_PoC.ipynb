{
 "cells": [
  {
   "cell_type": "code",
   "execution_count": 1,
   "id": "accomplished-moscow",
   "metadata": {},
   "outputs": [],
   "source": [
    "import os\n",
    "import pandas as pd\n",
    "import sqlite3\n",
    "import google.generativeai as genai"
   ]
  },
  {
   "cell_type": "code",
   "execution_count": 2,
   "id": "direct-nature",
   "metadata": {},
   "outputs": [],
   "source": [
    "genai.configure(api_key=\"Insert Key here\")\n",
    "model_name = \"gemini-1.5-flash-latest\"\n",
    "model = genai.GenerativeModel(model_name)"
   ]
  },
  {
   "cell_type": "code",
   "execution_count": 3,
   "id": "documented-arrow",
   "metadata": {},
   "outputs": [],
   "source": [
    "def read_csvs_from_directory(directory_path):\n",
    "    dataframes = {}\n",
    "    for filename in os.listdir(directory_path):\n",
    "        if filename.endswith(\".csv\"):\n",
    "            path = os.path.join(directory_path, filename)\n",
    "            df_name = os.path.splitext(filename)[0]\n",
    "            dataframes[df_name] = pd.read_csv(path)\n",
    "    return dataframes"
   ]
  },
  {
   "cell_type": "code",
   "execution_count": 4,
   "id": "increased-corner",
   "metadata": {},
   "outputs": [],
   "source": [
    "def create_sqlite_db_from_dfs(dataframes):\n",
    "    conn = sqlite3.connect(\":memory:\")\n",
    "    for table_name, df in dataframes.items():\n",
    "        df.to_sql(table_name, conn, index=False, if_exists='replace')\n",
    "    return conn"
   ]
  },
  {
   "cell_type": "code",
   "execution_count": 5,
   "id": "organized-pittsburgh",
   "metadata": {},
   "outputs": [],
   "source": [
    "def get_metadata_from_dfs(dataframes):\n",
    "    metadata_list = []\n",
    "    for table_name, df in dataframes.items():\n",
    "        cols = [f\"- {col} ({str(dtype)})\" for col, dtype in df.dtypes.items()]\n",
    "        metadata = f\"Table: {table_name}\\nColumns:\\n\" + \"\\n\".join(cols)\n",
    "        metadata_list.append(metadata)\n",
    "    return \"\\n\\n\".join(metadata_list)"
   ]
  },
  {
   "cell_type": "code",
   "execution_count": 6,
   "id": "single-alliance",
   "metadata": {},
   "outputs": [],
   "source": [
    "def generate_sql_query(question, metadata, model_name):\n",
    "    model = genai.GenerativeModel(model_name)\n",
    "    prompt = (\n",
    "        f\"You are an expert data analyst. Based on the following table schemas:\\n\\n\"\n",
    "        f\"{metadata}\\n\\n\"\n",
    "        f\"Write a syntactically correct SQL query (MySQL) for this question:\\n\"\n",
    "        f\"{question}\"\n",
    "        f\"Give the query only, nothing else\"\n",
    "        f\"When calculating ratios in SQL, multiply the numerator by 1.0 or use CAST(... AS FLOAT) to force float division and avoid integer division\"\n",
    "        f\"When giving the final result, always order it in a way you see fit\"\n",
    "    )\n",
    "    response = model.generate_content(prompt)\n",
    "    return response.text.strip(\"`sql\\n\").strip(\"`\")"
   ]
  },
  {
   "cell_type": "code",
   "execution_count": 7,
   "id": "banned-credit",
   "metadata": {},
   "outputs": [],
   "source": [
    "def run_sql_query(query, conn):\n",
    "    try:\n",
    "        result = pd.read_sql_query(query, conn)\n",
    "        return result\n",
    "    except Exception as e:\n",
    "        return f\"Error running SQL query: {e}\""
   ]
  },
  {
   "cell_type": "code",
   "execution_count": 8,
   "id": "committed-stupid",
   "metadata": {},
   "outputs": [
    {
     "name": "stdout",
     "output_type": "stream",
     "text": [
      "Table: ben10_aliens\n",
      "Columns:\n",
      "- alien_id (int64)\n",
      "- alien_name (object)\n",
      "- species (object)\n",
      "- home_planet (object)\n",
      "- strength_level (int64)\n",
      "- speed_level (int64)\n",
      "- intelligence (int64)\n",
      "\n",
      "Table: ben10_enemies\n",
      "Columns:\n",
      "- enemy_id (int64)\n",
      "- alien_name (object)\n",
      "- enemy_name (object)\n",
      "\n",
      "Table: ben10_battles\n",
      "Columns:\n",
      "- battle_id (int64)\n",
      "- alien_name (object)\n",
      "- enemy_name (object)\n",
      "- battle_date (object)\n",
      "- winner (object)\n"
     ]
    }
   ],
   "source": [
    "directory_path = \"./Datasets/ben10\"\n",
    "question = \"For the top 5 aliens that have fought most battles, what are their battle count, wins, win to battle ratio, strength and speed?\"\n",
    "\n",
    "dataframes = read_csvs_from_directory(directory_path)\n",
    "conn = create_sqlite_db_from_dfs(dataframes)\n",
    "metadata = get_metadata_from_dfs(dataframes)\n",
    "\n",
    "print(metadata)"
   ]
  },
  {
   "cell_type": "code",
   "execution_count": 9,
   "id": "graphic-shark",
   "metadata": {},
   "outputs": [
    {
     "name": "stdout",
     "output_type": "stream",
     "text": [
      "Generated SQL Query:\n",
      " SELECT\n",
      "  a.alien_name,\n",
      "  COUNT(b.battle_id) AS battle_count,\n",
      "  SUM(CASE WHEN b.winner = a.alien_name THEN 1 ELSE 0 END) AS wins,\n",
      "  (\n",
      "    SUM(CASE WHEN b.winner = a.alien_name THEN 1 ELSE 0 END) * 1.0 / COUNT(b.battle_id)\n",
      "  ) AS win_ratio,\n",
      "  a.strength_level,\n",
      "  a.speed_level\n",
      "FROM ben10_aliens AS a\n",
      "JOIN ben10_battles AS b\n",
      "  ON a.alien_name = b.alien_name\n",
      "GROUP BY\n",
      "  a.alien_name\n",
      "ORDER BY\n",
      "  battle_count DESC\n",
      "LIMIT 5;\n"
     ]
    }
   ],
   "source": [
    "sql_query = generate_sql_query(question, metadata, model_name)\n",
    "print(\"Generated SQL Query:\\n\", sql_query)"
   ]
  },
  {
   "cell_type": "code",
   "execution_count": 10,
   "id": "eastern-shepherd",
   "metadata": {},
   "outputs": [
    {
     "name": "stdout",
     "output_type": "stream",
     "text": [
      "Query Result:\n",
      "     alien_name  battle_count  wins  win_ratio  strength_level  speed_level\n",
      "0    Big Chill             9     4   0.444444               9            5\n",
      "1    Terraspin             8     4   0.500000              10            6\n",
      "2      Upchuck             7     4   0.571429               7           10\n",
      "3   Glitch Ben             7     3   0.428571               8            4\n",
      "4  Astrodactyl             7     3   0.428571              10            7\n"
     ]
    }
   ],
   "source": [
    "result = run_sql_query(sql_query, conn)\n",
    "print(\"Query Result:\\n\", result)"
   ]
  }
 ],
 "metadata": {
  "kernelspec": {
   "display_name": "Python 3.13 (MVP)",
   "language": "python",
   "name": "py13_env"
  },
  "language_info": {
   "codemirror_mode": {
    "name": "ipython",
    "version": 3
   },
   "file_extension": ".py",
   "mimetype": "text/x-python",
   "name": "python",
   "nbconvert_exporter": "python",
   "pygments_lexer": "ipython3",
   "version": "3.13.3"
  }
 },
 "nbformat": 4,
 "nbformat_minor": 5
}
