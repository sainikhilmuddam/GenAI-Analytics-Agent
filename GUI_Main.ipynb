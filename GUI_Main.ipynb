{
 "cells": [
  {
   "cell_type": "markdown",
   "id": "musical-reduction",
   "metadata": {},
   "source": [
    "### Main: GUI Backend"
   ]
  },
  {
   "cell_type": "code",
   "execution_count": 1,
   "id": "widespread-healing",
   "metadata": {},
   "outputs": [],
   "source": [
    "import gradio as gr\n",
    "from pathlib import Path\n",
    "\n",
    "from data_setup import read_csvs_from_directory, create_sqlite_db_from_dfs, get_metadata_from_dfs\n",
    "from llm_handler import configure_llm, generate_sql_query\n",
    "from query_executor import run_sql_query"
   ]
  },
  {
   "cell_type": "code",
   "execution_count": 2,
   "id": "collective-hunger",
   "metadata": {},
   "outputs": [
    {
     "name": "stdout",
     "output_type": "stream",
     "text": [
      "* Running on local URL:  http://127.0.0.1:7860\n",
      "* To create a public link, set `share=True` in `launch()`.\n"
     ]
    },
    {
     "data": {
      "text/html": [
       "<div><iframe src=\"http://127.0.0.1:7860/\" width=\"100%\" height=\"500\" allow=\"autoplay; camera; microphone; clipboard-read; clipboard-write;\" frameborder=\"0\" allowfullscreen></iframe></div>"
      ],
      "text/plain": [
       "<IPython.core.display.HTML object>"
      ]
     },
     "metadata": {},
     "output_type": "display_data"
    },
    {
     "data": {
      "text/plain": []
     },
     "execution_count": 2,
     "metadata": {},
     "output_type": "execute_result"
    }
   ],
   "source": [
    "# Main function that wraps your logic\n",
    "def generate_insights(dataset_name, api_key, question):\n",
    "    dataframes = read_csvs_from_directory(f\"Datasets/{dataset_name}\")\n",
    "    conn = create_sqlite_db_from_dfs(dataframes)\n",
    "    metadata = get_metadata_from_dfs(dataframes)\n",
    "    model = configure_llm(api_key)\n",
    "    \n",
    "    sql = generate_sql_query(question, metadata, model)\n",
    "    result = run_sql_query(sql, conn)\n",
    "    \n",
    "    return sql, result\n",
    "\n",
    "# Dataset options from folder\n",
    "dataset_names = [f.name for f in Path(\"Datasets\").iterdir() if f.is_dir()]\n",
    "\n",
    "# Define the interface\n",
    "with gr.Blocks(title=\"LLM Data Analysis\") as demo:\n",
    "    gr.Markdown(\"# LLM-powered Data Insights\")\n",
    "    \n",
    "    with gr.Row():\n",
    "        dataset_dropdown = gr.Dropdown(choices=dataset_names, label=\"Select Local Dataset\")\n",
    "        api_input = gr.Textbox(label=\"Gemini API Key\", type=\"password\")\n",
    "\n",
    "    question_input = gr.Textbox(lines=4, label=\"Ask a question in natural language\")\n",
    "\n",
    "    run_button = gr.Button(\"Generate Insights\")\n",
    "\n",
    "    sql_output = gr.Textbox(label=\"Generated SQL Query\", lines=3, interactive=False)\n",
    "    result_output = gr.Dataframe(label=\"Query Result\")\n",
    "\n",
    "    run_button.click(\n",
    "        fn=generate_insights,\n",
    "        inputs=[dataset_dropdown, api_input, question_input],\n",
    "        outputs=[sql_output, result_output]\n",
    "    )\n",
    "\n",
    "# Launch in new browser tab\n",
    "demo.launch(inbrowser=True)"
   ]
  },
  {
   "cell_type": "code",
   "execution_count": 3,
   "id": "blocked-january",
   "metadata": {},
   "outputs": [],
   "source": [
    "# !jupyter nbconvert --to script data_setup.ipynb\n",
    "# !jupyter nbconvert --to script llm_handler.ipynb\n",
    "# !jupyter nbconvert --to script query_executor.ipynb"
   ]
  }
 ],
 "metadata": {
  "kernelspec": {
   "display_name": "Python 3.13 (MVP)",
   "language": "python",
   "name": "py13_env"
  },
  "language_info": {
   "codemirror_mode": {
    "name": "ipython",
    "version": 3
   },
   "file_extension": ".py",
   "mimetype": "text/x-python",
   "name": "python",
   "nbconvert_exporter": "python",
   "pygments_lexer": "ipython3",
   "version": "3.13.3"
  }
 },
 "nbformat": 4,
 "nbformat_minor": 5
}
